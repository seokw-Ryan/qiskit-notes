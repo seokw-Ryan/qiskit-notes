{
 "cells": [
  {
   "cell_type": "code",
   "execution_count": null,
   "metadata": {
    "vscode": {
     "languageId": "plaintext"
    }
   },
   "outputs": [],
   "source": []
  },
  {
   "cell_type": "markdown",
   "metadata": {},
   "source": [
    "##Qiskit Patterns\n",
    "\n",
    "## Four Steps\n",
    "1. Map problem to quantum circuits and operators\n",
    "    - Circuit library (Qiskit SDK)\n",
    "    - Quantum info library (Qiskit SDK)\n",
    "\n",
    "2. Optimize for target hardware\n",
    "    - Transpiler (Qiskit SDK)\n",
    "    - AI-enhanced transpiler (Qiskit Transpiler Service)\n",
    "3. Execute on target hardware\n",
    "    - Runtime primitives (Qiskit Runtime Service)\n",
    "    - Execution modes (Qiskit Runtime Service)\n",
    "4. Post-process results\n",
    "    - Quantum info library (Qiskit SDK)\n",
    "    - Visualization module (Qiskit SDK)\n",
    "\n"
   ]
  },
  {
   "cell_type": "markdown",
   "metadata": {},
   "source": [
    "*It is crucial to learn which library/package to use in each step*"
   ]
  }
 ],
 "metadata": {
  "language_info": {
   "name": "python"
  }
 },
 "nbformat": 4,
 "nbformat_minor": 2
}
