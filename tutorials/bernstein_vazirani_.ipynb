{
 "cells": [
  {
   "cell_type": "code",
   "execution_count": 4,
   "metadata": {},
   "outputs": [],
   "source": [
    "from qiskit import QuantumCircuit\n",
    "from qiskit.visualization import plot_histogram\n",
    "import qiskit_aer"
   ]
  },
  {
   "cell_type": "code",
   "execution_count": 9,
   "metadata": {},
   "outputs": [
    {
     "ename": "AttributeError",
     "evalue": "module 'qiskit_aer' has no attribute 'get_backend'",
     "output_type": "error",
     "traceback": [
      "\u001b[31m---------------------------------------------------------------------------\u001b[39m",
      "\u001b[31mAttributeError\u001b[39m                            Traceback (most recent call last)",
      "\u001b[36mCell\u001b[39m\u001b[36m \u001b[39m\u001b[32mIn[9]\u001b[39m\u001b[32m, line 29\u001b[39m\n\u001b[32m     26\u001b[39m qc.measure(\u001b[38;5;28mrange\u001b[39m(n), \u001b[38;5;28mrange\u001b[39m(n))\n\u001b[32m     28\u001b[39m \u001b[38;5;66;03m# Execute the circuit\u001b[39;00m\n\u001b[32m---> \u001b[39m\u001b[32m29\u001b[39m backend = \u001b[43mqiskit_aer\u001b[49m\u001b[43m.\u001b[49m\u001b[43mget_backend\u001b[49m(\u001b[33m'\u001b[39m\u001b[33mqasm_simulator\u001b[39m\u001b[33m'\u001b[39m)\n\u001b[32m     30\u001b[39m result = execute(qc, backend, shots=\u001b[32m1024\u001b[39m).result()\n\u001b[32m     31\u001b[39m counts = result.get_counts()\n",
      "\u001b[31mAttributeError\u001b[39m: module 'qiskit_aer' has no attribute 'get_backend'"
     ]
    }
   ],
   "source": [
    "# Define the secret string s\n",
    "s = '101'  # You can change this to any binary string\n",
    "\n",
    "# Length of the secret string\n",
    "n = len(s)\n",
    "\n",
    "# Create the circuit with n input qubits and 1 output qubit\n",
    "qc = QuantumCircuit(n + 1, n)\n",
    "\n",
    "# Step 1: Initialize the output qubit to |1>\n",
    "qc.x(n)\n",
    "qc.h(n)\n",
    "\n",
    "# Step 2: Apply Hadamard to all qubits\n",
    "qc.h(range(n))\n",
    "\n",
    "# Step 3: Oracle for f(x) = s ⋅ x mod 2\n",
    "for i, bit in enumerate(s):\n",
    "    if bit == '1':\n",
    "        qc.cx(i, n)\n",
    "\n",
    "# Step 4: Apply Hadamard to input qubits again\n",
    "qc.h(range(n))\n",
    "\n",
    "# Step 5: Measure input qubits\n",
    "qc.measure(range(n), range(n))\n",
    "\n",
    "# Execute the circuit\n",
    "backend = qiskit_aer.get_backend('qasm_simulator')\n",
    "result = execute(qc, backend, shots=1024).result()\n",
    "counts = result.get_counts()\n",
    "\n",
    "# Print results\n",
    "print(\"Measured result:\", counts)\n",
    "plot_histogram(counts)"
   ]
  },
  {
   "cell_type": "code",
   "execution_count": null,
   "metadata": {},
   "outputs": [],
   "source": []
  }
 ],
 "metadata": {
  "kernelspec": {
   "display_name": "myenv",
   "language": "python",
   "name": "python3"
  },
  "language_info": {
   "codemirror_mode": {
    "name": "ipython",
    "version": 3
   },
   "file_extension": ".py",
   "mimetype": "text/x-python",
   "name": "python",
   "nbconvert_exporter": "python",
   "pygments_lexer": "ipython3",
   "version": "3.12.3"
  }
 },
 "nbformat": 4,
 "nbformat_minor": 2
}
