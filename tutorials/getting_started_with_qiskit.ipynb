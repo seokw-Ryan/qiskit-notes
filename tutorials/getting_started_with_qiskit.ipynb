{
 "cells": [
  {
   "cell_type": "code",
   "execution_count": 27,
   "metadata": {},
   "outputs": [],
   "source": [
    "import numpy as np\n",
    "from qiskit import QuantumCircuit\n",
    "from qiskit.quantum_info import Statevector"
   ]
  },
  {
   "cell_type": "code",
   "execution_count": 28,
   "metadata": {},
   "outputs": [],
   "source": [
    "circ = QuantumCircuit(3)"
   ]
  },
  {
   "cell_type": "code",
   "execution_count": 29,
   "metadata": {},
   "outputs": [
    {
     "data": {
      "text/plain": [
       "<qiskit.circuit.instructionset.InstructionSet at 0x7f81f69f0b50>"
      ]
     },
     "execution_count": 29,
     "metadata": {},
     "output_type": "execute_result"
    }
   ],
   "source": [
    "circ.h(0)\n",
    "circ.cx(0,1)\n",
    "circ.cx(0,2)"
   ]
  },
  {
   "cell_type": "code",
   "execution_count": 42,
   "metadata": {},
   "outputs": [
    {
     "data": {
      "image/png": "[encoded data removed]",
      "text/plain": [
       "<Figure size 371.107x284.278 with 1 Axes>"
      ]
     },
     "execution_count": 42,
     "metadata": {},
     "output_type": "execute_result"
    }
   ],
   "source": [
    "circ.draw('mpl')"
   ]
  },
  {
   "cell_type": "code",
   "execution_count": 44,
   "metadata": {},
   "outputs": [
    {
     "ename": "QiskitError",
     "evalue": "'No counts for experiment \"<qiskit.circuit.quantumcircuit.QuantumCircuit object at 0x7f81cc2eb0b0>\"'",
     "output_type": "error",
     "traceback": [
      "\u001b[31m---------------------------------------------------------------------------\u001b[39m",
      "\u001b[31mQiskitError\u001b[39m                               Traceback (most recent call last)",
      "\u001b[36mCell\u001b[39m\u001b[36m \u001b[39m\u001b[32mIn[44]\u001b[39m\u001b[32m, line 10\u001b[39m\n\u001b[32m      8\u001b[39m job = backend.run(circ)\n\u001b[32m      9\u001b[39m result = job.result()\n\u001b[32m---> \u001b[39m\u001b[32m10\u001b[39m \u001b[38;5;28mprint\u001b[39m(\u001b[43mresult\u001b[49m\u001b[43m.\u001b[49m\u001b[43mget_counts\u001b[49m\u001b[43m(\u001b[49m\u001b[43mcirc\u001b[49m\u001b[43m)\u001b[49m)\n\u001b[32m     12\u001b[39m \u001b[38;5;66;03m# Two useful methods here: job.status() and job.result()\u001b[39;00m\n\u001b[32m     13\u001b[39m \n\u001b[32m     14\u001b[39m \u001b[38;5;66;03m# #Return the state vector\u001b[39;00m\n\u001b[32m     15\u001b[39m \u001b[38;5;66;03m# outputstate = result.get_statevector(circ, decimals=3)\u001b[39;00m\n",
      "\u001b[36mFile \u001b[39m\u001b[32m~/Projects/qiskit/myenv/lib/python3.12/site-packages/qiskit/result/result.py:276\u001b[39m, in \u001b[36mResult.get_counts\u001b[39m\u001b[34m(self, experiment)\u001b[39m\n\u001b[32m    274\u001b[39m         dict_list.append(statevector.Statevector(vec).probabilities_dict(decimals=\u001b[32m15\u001b[39m))\n\u001b[32m    275\u001b[39m     \u001b[38;5;28;01melse\u001b[39;00m:\n\u001b[32m--> \u001b[39m\u001b[32m276\u001b[39m         \u001b[38;5;28;01mraise\u001b[39;00m QiskitError(\u001b[33mf\u001b[39m\u001b[33m'\u001b[39m\u001b[33mNo counts for experiment \u001b[39m\u001b[33m\"\u001b[39m\u001b[38;5;132;01m{\u001b[39;00m\u001b[38;5;28mrepr\u001b[39m(key)\u001b[38;5;132;01m}\u001b[39;00m\u001b[33m\"\u001b[39m\u001b[33m'\u001b[39m)\n\u001b[32m    278\u001b[39m \u001b[38;5;66;03m# Return first item of dict_list if size is 1\u001b[39;00m\n\u001b[32m    279\u001b[39m \u001b[38;5;28;01mif\u001b[39;00m \u001b[38;5;28mlen\u001b[39m(dict_list) == \u001b[32m1\u001b[39m:\n",
      "\u001b[31mQiskitError\u001b[39m: 'No counts for experiment \"<qiskit.circuit.quantumcircuit.QuantumCircuit object at 0x7f81cc2eb0b0>\"'"
     ]
    }
   ],
   "source": [
    "#Simulate qubits\n",
    "from qiskit_aer import AerSimulator\n",
    "from qiskit import transpile\n",
    "\n",
    "backend = AerSimulator(method='statevector')\n",
    "# sim = AerSimulator()\n",
    "# tcirc = transpile(circ, sim)\n",
    "job = backend.run(circ)\n",
    "result = job.result()\n",
    "print(result.get_counts(circ))\n",
    "\n",
    "# Two useful methods here: job.status() and job.result()\n",
    "\n",
    "# #Return the state vector\n",
    "# outputstate = result.get_statevector(circ, decimals=3)\n"
   ]
  },
  {
   "cell_type": "code",
   "execution_count": 47,
   "metadata": {},
   "outputs": [
    {
     "ename": "QiskitError",
     "evalue": "'No counts for experiment \"<qiskit.circuit.quantumcircuit.QuantumCircuit object at 0x7f81ac674710>\"'",
     "output_type": "error",
     "traceback": [
      "\u001b[31m---------------------------------------------------------------------------\u001b[39m",
      "\u001b[31mQiskitError\u001b[39m                               Traceback (most recent call last)",
      "\u001b[36mCell\u001b[39m\u001b[36m \u001b[39m\u001b[32mIn[47]\u001b[39m\u001b[32m, line 6\u001b[39m\n\u001b[32m      4\u001b[39m job = backend.run(qc_compiled, shots=\u001b[32m1024\u001b[39m)\n\u001b[32m      5\u001b[39m result = job.result()\n\u001b[32m----> \u001b[39m\u001b[32m6\u001b[39m counts = \u001b[43mresult\u001b[49m\u001b[43m.\u001b[49m\u001b[43mget_counts\u001b[49m\u001b[43m(\u001b[49m\u001b[43mqc_compiled\u001b[49m\u001b[43m)\u001b[49m\n",
      "\u001b[36mFile \u001b[39m\u001b[32m~/Projects/qiskit/myenv/lib/python3.12/site-packages/qiskit/result/result.py:276\u001b[39m, in \u001b[36mResult.get_counts\u001b[39m\u001b[34m(self, experiment)\u001b[39m\n\u001b[32m    274\u001b[39m         dict_list.append(statevector.Statevector(vec).probabilities_dict(decimals=\u001b[32m15\u001b[39m))\n\u001b[32m    275\u001b[39m     \u001b[38;5;28;01melse\u001b[39;00m:\n\u001b[32m--> \u001b[39m\u001b[32m276\u001b[39m         \u001b[38;5;28;01mraise\u001b[39;00m QiskitError(\u001b[33mf\u001b[39m\u001b[33m'\u001b[39m\u001b[33mNo counts for experiment \u001b[39m\u001b[33m\"\u001b[39m\u001b[38;5;132;01m{\u001b[39;00m\u001b[38;5;28mrepr\u001b[39m(key)\u001b[38;5;132;01m}\u001b[39;00m\u001b[33m\"\u001b[39m\u001b[33m'\u001b[39m)\n\u001b[32m    278\u001b[39m \u001b[38;5;66;03m# Return first item of dict_list if size is 1\u001b[39;00m\n\u001b[32m    279\u001b[39m \u001b[38;5;28;01mif\u001b[39;00m \u001b[38;5;28mlen\u001b[39m(dict_list) == \u001b[32m1\u001b[39m:\n",
      "\u001b[31mQiskitError\u001b[39m: 'No counts for experiment \"<qiskit.circuit.quantumcircuit.QuantumCircuit object at 0x7f81ac674710>\"'"
     ]
    }
   ],
   "source": [
    "#Trying once more with better variable names\n",
    "backend = AerSimulator()\n",
    "qc_compiled = transpile(circ, backend)\n",
    "job = backend.run(qc_compiled, shots=1024)\n",
    "result = job.result()\n",
    "counts = result.get_counts(qc_compiled)"
   ]
  },
  {
   "cell_type": "code",
   "execution_count": 34,
   "metadata": {},
   "outputs": [
    {
     "data": {
      "image/png": "[encoded data removed]",
      "text/plain": [
       "<Figure size 705.552x367.889 with 1 Axes>"
      ]
     },
     "execution_count": 34,
     "metadata": {},
     "output_type": "execute_result"
    }
   ],
   "source": [
    "#Implementing measurement\n",
    "meas = QuantumCircuit(3,3)\n",
    "meas.barrier(range(3))\n",
    "meas.measure(range(3), range(3))\n",
    "\n",
    "qc = meas.compose(circ, range(3), front=True)\n",
    "qc.draw(\"mpl\")"
   ]
  },
  {
   "cell_type": "code",
   "execution_count": 39,
   "metadata": {},
   "outputs": [
    {
     "ename": "QiskitError",
     "evalue": "'Data for experiment \"circuit-173\" could not be found.'",
     "output_type": "error",
     "traceback": [
      "\u001b[31m---------------------------------------------------------------------------\u001b[39m",
      "\u001b[31mQiskitError\u001b[39m                               Traceback (most recent call last)",
      "\u001b[36mCell\u001b[39m\u001b[36m \u001b[39m\u001b[32mIn[39]\u001b[39m\u001b[32m, line 12\u001b[39m\n\u001b[32m     10\u001b[39m \u001b[38;5;66;03m# Get results\u001b[39;00m\n\u001b[32m     11\u001b[39m counts = result_sim.get_counts(qc_compiled)\n\u001b[32m---> \u001b[39m\u001b[32m12\u001b[39m outputstate = \u001b[43mresult\u001b[49m\u001b[43m.\u001b[49m\u001b[43mget_statevector\u001b[49m\u001b[43m(\u001b[49m\u001b[43mqc_compiled\u001b[49m\u001b[43m)\u001b[49m\n\u001b[32m     13\u001b[39m \u001b[38;5;28mprint\u001b[39m(\u001b[33mf\u001b[39m\u001b[33m\"\u001b[39m\u001b[33mCount: \u001b[39m\u001b[38;5;132;01m{\u001b[39;00mcounts\u001b[38;5;132;01m}\u001b[39;00m\u001b[33m\"\u001b[39m)\n",
      "\u001b[36mFile \u001b[39m\u001b[32m~/Projects/qiskit/myenv/lib/python3.12/site-packages/qiskit/result/result.py:301\u001b[39m, in \u001b[36mResult.get_statevector\u001b[39m\u001b[34m(self, experiment, decimals)\u001b[39m\n\u001b[32m    285\u001b[39m \u001b[38;5;250m\u001b[39m\u001b[33;03m\"\"\"Get the final statevector of an experiment.\u001b[39;00m\n\u001b[32m    286\u001b[39m \n\u001b[32m    287\u001b[39m \u001b[33;03mArgs:\u001b[39;00m\n\u001b[32m   (...)\u001b[39m\u001b[32m    297\u001b[39m \u001b[33;03m    QiskitError: if there is no statevector for the experiment.\u001b[39;00m\n\u001b[32m    298\u001b[39m \u001b[33;03m\"\"\"\u001b[39;00m\n\u001b[32m    299\u001b[39m \u001b[38;5;28;01mtry\u001b[39;00m:\n\u001b[32m    300\u001b[39m     \u001b[38;5;28;01mreturn\u001b[39;00m postprocess.format_statevector(\n\u001b[32m--> \u001b[39m\u001b[32m301\u001b[39m         \u001b[38;5;28;43mself\u001b[39;49m\u001b[43m.\u001b[49m\u001b[43mdata\u001b[49m\u001b[43m(\u001b[49m\u001b[43mexperiment\u001b[49m\u001b[43m)\u001b[49m[\u001b[33m\"\u001b[39m\u001b[33mstatevector\u001b[39m\u001b[33m\"\u001b[39m], decimals=decimals\n\u001b[32m    302\u001b[39m     )\n\u001b[32m    303\u001b[39m \u001b[38;5;28;01mexcept\u001b[39;00m \u001b[38;5;167;01mKeyError\u001b[39;00m \u001b[38;5;28;01mas\u001b[39;00m ex:\n\u001b[32m    304\u001b[39m     \u001b[38;5;28;01mraise\u001b[39;00m QiskitError(\u001b[33mf\u001b[39m\u001b[33m'\u001b[39m\u001b[33mNo statevector for experiment \u001b[39m\u001b[33m\"\u001b[39m\u001b[38;5;132;01m{\u001b[39;00m\u001b[38;5;28mrepr\u001b[39m(experiment)\u001b[38;5;132;01m}\u001b[39;00m\u001b[33m\"\u001b[39m\u001b[33m'\u001b[39m) \u001b[38;5;28;01mfrom\u001b[39;00m\u001b[38;5;250m \u001b[39m\u001b[34;01mex\u001b[39;00m\n",
      "\u001b[36mFile \u001b[39m\u001b[32m~/Projects/qiskit/myenv/lib/python3.12/site-packages/qiskit/result/result.py:174\u001b[39m, in \u001b[36mResult.data\u001b[39m\u001b[34m(self, experiment)\u001b[39m\n\u001b[32m    127\u001b[39m \u001b[38;5;250m\u001b[39m\u001b[33;03m\"\"\"Get the raw data for an experiment.\u001b[39;00m\n\u001b[32m    128\u001b[39m \n\u001b[32m    129\u001b[39m \u001b[33;03mNote this data will be a single classical and quantum register and in a\u001b[39;00m\n\u001b[32m   (...)\u001b[39m\u001b[32m    171\u001b[39m \u001b[33;03m    QiskitError: if data for the experiment could not be retrieved.\u001b[39;00m\n\u001b[32m    172\u001b[39m \u001b[33;03m\"\"\"\u001b[39;00m\n\u001b[32m    173\u001b[39m \u001b[38;5;28;01mtry\u001b[39;00m:\n\u001b[32m--> \u001b[39m\u001b[32m174\u001b[39m     \u001b[38;5;28;01mreturn\u001b[39;00m \u001b[38;5;28;43mself\u001b[39;49m\u001b[43m.\u001b[49m\u001b[43m_get_experiment\u001b[49m\u001b[43m(\u001b[49m\u001b[43mexperiment\u001b[49m\u001b[43m)\u001b[49m.data.to_dict()\n\u001b[32m    175\u001b[39m \u001b[38;5;28;01mexcept\u001b[39;00m (\u001b[38;5;167;01mKeyError\u001b[39;00m, \u001b[38;5;167;01mTypeError\u001b[39;00m) \u001b[38;5;28;01mas\u001b[39;00m ex:\n\u001b[32m    176\u001b[39m     \u001b[38;5;28;01mraise\u001b[39;00m QiskitError(\u001b[33mf\u001b[39m\u001b[33m'\u001b[39m\u001b[33mNo data for experiment \u001b[39m\u001b[33m\"\u001b[39m\u001b[38;5;132;01m{\u001b[39;00m\u001b[38;5;28mrepr\u001b[39m(experiment)\u001b[38;5;132;01m}\u001b[39;00m\u001b[33m\"\u001b[39m\u001b[33m'\u001b[39m) \u001b[38;5;28;01mfrom\u001b[39;00m\u001b[38;5;250m \u001b[39m\u001b[34;01mex\u001b[39;00m\n",
      "\u001b[36mFile \u001b[39m\u001b[32m~/Projects/qiskit/myenv/lib/python3.12/site-packages/qiskit/result/result.py:368\u001b[39m, in \u001b[36mResult._get_experiment\u001b[39m\u001b[34m(self, key)\u001b[39m\n\u001b[32m    360\u001b[39m exp = [\n\u001b[32m    361\u001b[39m     result\n\u001b[32m    362\u001b[39m     \u001b[38;5;28;01mfor\u001b[39;00m result \u001b[38;5;129;01min\u001b[39;00m \u001b[38;5;28mself\u001b[39m.results\n\u001b[32m    363\u001b[39m     \u001b[38;5;28;01mif\u001b[39;00m \u001b[38;5;28mgetattr\u001b[39m(result, \u001b[33m\"\u001b[39m\u001b[33mheader\u001b[39m\u001b[33m\"\u001b[39m, \u001b[38;5;28;01mNone\u001b[39;00m) \u001b[38;5;129;01mis\u001b[39;00m \u001b[38;5;129;01mnot\u001b[39;00m \u001b[38;5;28;01mNone\u001b[39;00m\n\u001b[32m    364\u001b[39m     \u001b[38;5;129;01mand\u001b[39;00m \u001b[38;5;28mgetattr\u001b[39m(result, \u001b[33m\"\u001b[39m\u001b[33mheader\u001b[39m\u001b[33m\"\u001b[39m).get(\u001b[33m\"\u001b[39m\u001b[33mname\u001b[39m\u001b[33m\"\u001b[39m, \u001b[33m\"\u001b[39m\u001b[33m\"\u001b[39m) == key\n\u001b[32m    365\u001b[39m ]\n\u001b[32m    367\u001b[39m \u001b[38;5;28;01mif\u001b[39;00m \u001b[38;5;28mlen\u001b[39m(exp) == \u001b[32m0\u001b[39m:\n\u001b[32m--> \u001b[39m\u001b[32m368\u001b[39m     \u001b[38;5;28;01mraise\u001b[39;00m QiskitError(\u001b[33mf\u001b[39m\u001b[33m'\u001b[39m\u001b[33mData for experiment \u001b[39m\u001b[33m\"\u001b[39m\u001b[38;5;132;01m{\u001b[39;00mkey\u001b[38;5;132;01m}\u001b[39;00m\u001b[33m\"\u001b[39m\u001b[33m could not be found.\u001b[39m\u001b[33m'\u001b[39m)\n\u001b[32m    369\u001b[39m \u001b[38;5;28;01mif\u001b[39;00m \u001b[38;5;28mlen\u001b[39m(exp) == \u001b[32m1\u001b[39m:\n\u001b[32m    370\u001b[39m     exp = exp[\u001b[32m0\u001b[39m]\n",
      "\u001b[31mQiskitError\u001b[39m: 'Data for experiment \"circuit-173\" could not be found.'"
     ]
    }
   ],
   "source": [
    "from qiskit import transpile\n",
    "from qiskit_aer import AerSimulator\n",
    "\n",
    "backend = AerSimulator()\n",
    "\n",
    "qc_compiled = transpile(qc, backend)\n",
    "job_sim = backend.run(qc_compiled, shots=1024)\n",
    "result_sim = job_sim.result()\n",
    "\n",
    "# Get results\n",
    "counts = result_sim.get_counts(qc_compiled)\n",
    "outputstate = result.get_statevector(qc_compiled)\n",
    "print(f\"Count: {counts}\")"
   ]
  },
  {
   "cell_type": "code",
   "execution_count": null,
   "metadata": {},
   "outputs": [],
   "source": []
  }
 ],
 "metadata": {
  "kernelspec": {
   "display_name": "myenv",
   "language": "python",
   "name": "python3"
  },
  "language_info": {
   "codemirror_mode": {
    "name": "ipython",
    "version": 3
   },
   "file_extension": ".py",
   "mimetype": "text/x-python",
   "name": "python",
   "nbconvert_exporter": "python",
   "pygments_lexer": "ipython3",
   "version": "3.12.3"
  }
 },
 "nbformat": 4,
 "nbformat_minor": 2
}
